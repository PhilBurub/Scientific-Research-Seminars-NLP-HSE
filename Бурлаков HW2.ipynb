{
  "cells": [
    {
      "cell_type": "code",
      "execution_count": 1,
      "metadata": {
        "id": "EulQ4KWylt3D"
      },
      "outputs": [],
      "source": [
        "import json\n",
        "import random\n",
        "from tqdm import tqdm\n",
        "import numpy as np\n",
        "\n",
        "from matplotlib import pyplot as plt\n",
        "from sklearn.decomposition import TruncatedSVD\n",
        "from sklearn.manifold import TSNE\n",
        "import pandas as pd\n",
        "\n",
        "import torch\n",
        "\n",
        "from pylab import rcParams\n",
        "rcParams['figure.figsize'] = 15, 15"
      ]
    },
    {
      "cell_type": "markdown",
      "metadata": {
        "id": "8s4T7qv7lt3L"
      },
      "source": [
        "# Что делать?\n",
        "Где есть пометка # CODE писать код\n",
        "\n",
        "[Полезный туториал](http://jalammar.github.io/illustrated-word2vec/)"
      ]
    },
    {
      "cell_type": "markdown",
      "metadata": {
        "id": "Aq5uYY56lt3N"
      },
      "source": [
        "# Загружаем данные\n",
        "Они уже обработанные и токенизированные. Процесс можно посмотреть в тетрадке 1.1 Processing corpus"
      ]
    },
    {
      "cell_type": "code",
      "source": [
        "!wget https://github.com/semensorokin/DL-for-NLP/raw/year23-24/HW%231/data/processed_corpus.json.zip\n",
        "!unzip processed_corpus.json.zip"
      ],
      "metadata": {
        "id": "aZqPpll7l_rp",
        "colab": {
          "base_uri": "https://localhost:8080/"
        },
        "outputId": "ec33ad76-291a-45f2-ec81-bfda1dac9f34"
      },
      "execution_count": 2,
      "outputs": [
        {
          "output_type": "stream",
          "name": "stdout",
          "text": [
            "--2023-11-08 09:52:05--  https://github.com/semensorokin/DL-for-NLP/raw/year23-24/HW%231/data/processed_corpus.json.zip\n",
            "Resolving github.com (github.com)... 140.82.112.3\n",
            "Connecting to github.com (github.com)|140.82.112.3|:443... connected.\n",
            "HTTP request sent, awaiting response... 302 Found\n",
            "Location: https://raw.githubusercontent.com/semensorokin/DL-for-NLP/year23-24/HW%231/data/processed_corpus.json.zip [following]\n",
            "--2023-11-08 09:52:05--  https://raw.githubusercontent.com/semensorokin/DL-for-NLP/year23-24/HW%231/data/processed_corpus.json.zip\n",
            "Resolving raw.githubusercontent.com (raw.githubusercontent.com)... 185.199.108.133, 185.199.109.133, 185.199.110.133, ...\n",
            "Connecting to raw.githubusercontent.com (raw.githubusercontent.com)|185.199.108.133|:443... connected.\n",
            "HTTP request sent, awaiting response... 200 OK\n",
            "Length: 3052590 (2.9M) [application/zip]\n",
            "Saving to: ‘processed_corpus.json.zip’\n",
            "\n",
            "processed_corpus.js 100%[===================>]   2.91M  --.-KB/s    in 0.08s   \n",
            "\n",
            "2023-11-08 09:52:05 (37.7 MB/s) - ‘processed_corpus.json.zip’ saved [3052590/3052590]\n",
            "\n",
            "Archive:  processed_corpus.json.zip\n",
            "  inflating: processed_corpus.json   \n"
          ]
        }
      ]
    },
    {
      "cell_type": "code",
      "execution_count": 3,
      "metadata": {
        "id": "ZWemS5d2lt3P"
      },
      "outputs": [],
      "source": [
        "with open('/content/processed_corpus.json') as f:\n",
        "    corpus = json.load(f)"
      ]
    },
    {
      "cell_type": "code",
      "execution_count": 4,
      "metadata": {
        "id": "C7miLi0vlt3Q",
        "outputId": "1e7c3448-7a5e-40f0-ca2f-5760e86a6deb",
        "colab": {
          "base_uri": "https://localhost:8080/"
        }
      },
      "outputs": [
        {
          "output_type": "execute_result",
          "data": {
            "text/plain": [
              "100000"
            ]
          },
          "metadata": {},
          "execution_count": 4
        }
      ],
      "source": [
        "len(corpus)"
      ]
    },
    {
      "cell_type": "code",
      "execution_count": 5,
      "metadata": {
        "id": "6QcMd4dXlt3S",
        "outputId": "ea27f6fe-7bbd-41f2-ea66-ad3d82325e9a",
        "colab": {
          "base_uri": "https://localhost:8080/"
        }
      },
      "outputs": [
        {
          "output_type": "stream",
          "name": "stdout",
          "text": [
            "второй UNK год окончательно разочаровать решить податься альфабанк\n",
            "вернуть денежный средство лицевой счёт либо зачесть счёт погашение кредит\n",
            "притом ситуация решиться участие течение сутки заявить\n",
            "мой ##число летний жизнь это самый неповоротливый работник банк который видеть\n",
            "везде написать вклад принимать очередь это\n"
          ]
        }
      ],
      "source": [
        "for text in corpus[:5]:\n",
        "    print(' '.join(text))"
      ]
    },
    {
      "cell_type": "markdown",
      "metadata": {
        "id": "ROkEcHs7lt3U"
      },
      "source": [
        "# CBOW"
      ]
    },
    {
      "cell_type": "code",
      "execution_count": 6,
      "metadata": {
        "id": "iPFt4eDklt3V"
      },
      "outputs": [],
      "source": [
        "sample_text = [\"вопрос\", \"почему\", \"например\", \"китайский\", \"японский\", \"UNK\"]"
      ]
    },
    {
      "cell_type": "code",
      "execution_count": 7,
      "metadata": {
        "id": "QBpA3DDHlt3W",
        "outputId": "fd827d3f-1a20-4b14-d09d-55421816f59b",
        "colab": {
          "base_uri": "https://localhost:8080/",
          "height": 36
        }
      },
      "outputs": [
        {
          "output_type": "execute_result",
          "data": {
            "text/plain": [
              "'вопрос почему например китайский японский UNK'"
            ],
            "application/vnd.google.colaboratory.intrinsic+json": {
              "type": "string"
            }
          },
          "metadata": {},
          "execution_count": 7
        }
      ],
      "source": [
        "' '.join(sample_text)"
      ]
    },
    {
      "cell_type": "markdown",
      "metadata": {
        "id": "9LKatDbelt3X"
      },
      "source": [
        "# Реализуйте разделение предложения на примеры методом CBOW"
      ]
    },
    {
      "cell_type": "code",
      "execution_count": 8,
      "metadata": {
        "id": "siX6Htcglt3Y"
      },
      "outputs": [],
      "source": [
        "def cbow_split(tokens, window, pad_token='PAD'):\n",
        "\n",
        "    splits = []\n",
        "\n",
        "    for i in range(len(tokens)):\n",
        "      leftpad = max((window - i), 0)\n",
        "      left = [pad_token] * leftpad + tokens[i-window+leftpad:i]\n",
        "      center = tokens[i]\n",
        "\n",
        "      right = tokens[i+1:i+window+1]\n",
        "      right = right + [pad_token] * (window - len(right))\n",
        "\n",
        "      splits.append((left, center, right))\n",
        "\n",
        "    return splits"
      ]
    },
    {
      "cell_type": "code",
      "execution_count": 9,
      "metadata": {
        "id": "NX1j0i3clt3Y"
      },
      "outputs": [],
      "source": [
        "splits = cbow_split(sample_text, window=2)"
      ]
    },
    {
      "cell_type": "code",
      "execution_count": 10,
      "metadata": {
        "id": "BqCEZstvlt3Z",
        "outputId": "cef5a89b-2a90-4840-fa7c-b160a021d706",
        "colab": {
          "base_uri": "https://localhost:8080/"
        }
      },
      "outputs": [
        {
          "output_type": "stream",
          "name": "stdout",
          "text": [
            "Левый контекст: ['PAD', 'PAD']\n",
            "Центральное слово: вопрос\n",
            "Правый контекст: ['почему', 'например']\n",
            "\n",
            "Левый контекст: ['PAD', 'вопрос']\n",
            "Центральное слово: почему\n",
            "Правый контекст: ['например', 'китайский']\n",
            "\n",
            "Левый контекст: ['вопрос', 'почему']\n",
            "Центральное слово: например\n",
            "Правый контекст: ['китайский', 'японский']\n",
            "\n",
            "Левый контекст: ['почему', 'например']\n",
            "Центральное слово: китайский\n",
            "Правый контекст: ['японский', 'UNK']\n",
            "\n",
            "Левый контекст: ['например', 'китайский']\n",
            "Центральное слово: японский\n",
            "Правый контекст: ['UNK', 'PAD']\n",
            "\n",
            "Левый контекст: ['китайский', 'японский']\n",
            "Центральное слово: UNK\n",
            "Правый контекст: ['PAD', 'PAD']\n",
            "\n"
          ]
        }
      ],
      "source": [
        "for sample in splits:\n",
        "    print('Левый контекст:', sample[0])\n",
        "    print('Центральное слово:', sample[1])\n",
        "    print('Правый контекст:', sample[2], end='\\n\\n')"
      ]
    },
    {
      "cell_type": "code",
      "execution_count": 11,
      "metadata": {
        "id": "ZGmcjUiglt3a",
        "outputId": "ccf2eae9-3eb2-4d47-c941-cded2c8852de",
        "colab": {
          "base_uri": "https://localhost:8080/"
        }
      },
      "outputs": [
        {
          "output_type": "execute_result",
          "data": {
            "text/plain": [
              "[(['PAD', 'PAD'], 'вопрос', ['почему', 'например']),\n",
              " (['PAD', 'вопрос'], 'почему', ['например', 'китайский']),\n",
              " (['вопрос', 'почему'], 'например', ['китайский', 'японский']),\n",
              " (['почему', 'например'], 'китайский', ['японский', 'UNK']),\n",
              " (['например', 'китайский'], 'японский', ['UNK', 'PAD']),\n",
              " (['китайский', 'японский'], 'UNK', ['PAD', 'PAD'])]"
            ]
          },
          "metadata": {},
          "execution_count": 11
        }
      ],
      "source": [
        "splits"
      ]
    },
    {
      "cell_type": "markdown",
      "metadata": {
        "id": "rlxACKdTlt3a"
      },
      "source": [
        "# Expected\n",
        "\n",
        "```python\n",
        "[(['PAD', 'PAD'], 'вопрос', ['почему', 'например']),\n",
        " (['PAD', 'вопрос'], 'почему', ['например', 'китайский']),\n",
        " (['вопрос', 'почему'], 'например', ['китайский', 'японский']),\n",
        " (['почему', 'например'], 'китайский', ['японский', 'UNK']),\n",
        " (['например', 'китайский'], 'японский', ['UNK', 'PAD']),\n",
        " (['китайский', 'японский'], 'UNK', ['PAD', 'PAD'])]\n",
        "```"
      ]
    },
    {
      "cell_type": "code",
      "execution_count": 12,
      "metadata": {
        "id": "Q9Pcf4oxlt3b",
        "outputId": "1899211b-6fae-45e4-fcba-a6a3cd06f6aa",
        "colab": {
          "base_uri": "https://localhost:8080/"
        }
      },
      "outputs": [
        {
          "output_type": "execute_result",
          "data": {
            "text/plain": [
              "[(['PAD', 'PAD', 'PAD'], 'вопрос', ['почему', 'например', 'китайский']),\n",
              " (['PAD', 'PAD', 'вопрос'], 'почему', ['например', 'китайский', 'японский']),\n",
              " (['PAD', 'вопрос', 'почему'], 'например', ['китайский', 'японский', 'UNK']),\n",
              " (['вопрос', 'почему', 'например'], 'китайский', ['японский', 'UNK', 'PAD']),\n",
              " (['почему', 'например', 'китайский'], 'японский', ['UNK', 'PAD', 'PAD']),\n",
              " (['например', 'китайский', 'японский'], 'UNK', ['PAD', 'PAD', 'PAD'])]"
            ]
          },
          "metadata": {},
          "execution_count": 12
        }
      ],
      "source": [
        "cbow_split(sample_text, window=3)"
      ]
    },
    {
      "cell_type": "markdown",
      "metadata": {
        "id": "0KFfBmj1lt3c"
      },
      "source": [
        "# Expected\n",
        "\n",
        "```python\n",
        "[(['PAD', 'PAD', 'PAD'], 'вопрос', ['почему', 'например', 'китайский']),\n",
        " (['PAD', 'PAD', 'вопрос'], 'почему', ['например', 'китайский', 'японский']),\n",
        " (['PAD', 'вопрос', 'почему'], 'например', ['китайский', 'японский', 'UNK']),\n",
        " (['вопрос', 'почему', 'например'], 'китайский', ['японский', 'UNK', 'PAD']),\n",
        " (['почему', 'например', 'китайский'], 'японский', ['UNK', 'PAD', 'PAD']),\n",
        " (['например', 'китайский', 'японский'], 'UNK', ['PAD', 'PAD', 'PAD'])]\n",
        "```"
      ]
    },
    {
      "cell_type": "markdown",
      "metadata": {
        "id": "cCTa2z_Ult3c"
      },
      "source": [
        "# Skipgram"
      ]
    },
    {
      "cell_type": "code",
      "execution_count": 13,
      "metadata": {
        "id": "Qp9nZT4olt3c",
        "outputId": "e1c58afe-2fae-492c-d03e-ebc00e16d636",
        "colab": {
          "base_uri": "https://localhost:8080/",
          "height": 36
        }
      },
      "outputs": [
        {
          "output_type": "execute_result",
          "data": {
            "text/plain": [
              "'вопрос почему например китайский японский UNK'"
            ],
            "application/vnd.google.colaboratory.intrinsic+json": {
              "type": "string"
            }
          },
          "metadata": {},
          "execution_count": 13
        }
      ],
      "source": [
        "' '.join(sample_text)"
      ]
    },
    {
      "cell_type": "markdown",
      "metadata": {
        "id": "LOVvOaY1lt3d"
      },
      "source": [
        "# Реализуйте разделение предложения на примеры методом Skipgram"
      ]
    },
    {
      "cell_type": "code",
      "execution_count": 14,
      "metadata": {
        "id": "bbcfe1LNlt3d"
      },
      "outputs": [],
      "source": [
        "def skipgram_split(tokens, window):\n",
        "\n",
        "    splits = []\n",
        "\n",
        "    for i in range(len(tokens)):\n",
        "      for j in range(-window, window+1):\n",
        "        if 0 <= i+j < len(tokens) and j != 0:\n",
        "          splits.append((tokens[i+j], tokens[i]))\n",
        "\n",
        "    return splits"
      ]
    },
    {
      "cell_type": "code",
      "execution_count": 15,
      "metadata": {
        "id": "-2gxvRwolt3e"
      },
      "outputs": [],
      "source": [
        "splits = skipgram_split(sample_text, window=2)"
      ]
    },
    {
      "cell_type": "code",
      "execution_count": 16,
      "metadata": {
        "id": "k63jzO2-lt3e",
        "outputId": "f4a68abe-b57a-4256-ee5f-13f7e59b5ef5",
        "colab": {
          "base_uri": "https://localhost:8080/"
        }
      },
      "outputs": [
        {
          "output_type": "stream",
          "name": "stdout",
          "text": [
            "Контекст: почему\n",
            "Центральное слово: вопрос\n",
            "\n",
            "Контекст: например\n",
            "Центральное слово: вопрос\n",
            "\n",
            "Контекст: вопрос\n",
            "Центральное слово: почему\n",
            "\n",
            "Контекст: например\n",
            "Центральное слово: почему\n",
            "\n",
            "Контекст: китайский\n",
            "Центральное слово: почему\n",
            "\n",
            "Контекст: вопрос\n",
            "Центральное слово: например\n",
            "\n",
            "Контекст: почему\n",
            "Центральное слово: например\n",
            "\n",
            "Контекст: китайский\n",
            "Центральное слово: например\n",
            "\n",
            "Контекст: японский\n",
            "Центральное слово: например\n",
            "\n",
            "Контекст: почему\n",
            "Центральное слово: китайский\n",
            "\n",
            "Контекст: например\n",
            "Центральное слово: китайский\n",
            "\n",
            "Контекст: японский\n",
            "Центральное слово: китайский\n",
            "\n",
            "Контекст: UNK\n",
            "Центральное слово: китайский\n",
            "\n",
            "Контекст: например\n",
            "Центральное слово: японский\n",
            "\n",
            "Контекст: китайский\n",
            "Центральное слово: японский\n",
            "\n",
            "Контекст: UNK\n",
            "Центральное слово: японский\n",
            "\n",
            "Контекст: китайский\n",
            "Центральное слово: UNK\n",
            "\n",
            "Контекст: японский\n",
            "Центральное слово: UNK\n",
            "\n"
          ]
        }
      ],
      "source": [
        "for sample in splits:\n",
        "    print('Контекст:', sample[0])\n",
        "    print('Центральное слово:', sample[1], end='\\n\\n')"
      ]
    },
    {
      "cell_type": "code",
      "execution_count": 17,
      "metadata": {
        "id": "Oa_-HFB5lt3f",
        "outputId": "42301ffd-a74e-4c58-9115-c060c6458b61",
        "colab": {
          "base_uri": "https://localhost:8080/"
        }
      },
      "outputs": [
        {
          "output_type": "execute_result",
          "data": {
            "text/plain": [
              "[('почему', 'вопрос'),\n",
              " ('например', 'вопрос'),\n",
              " ('вопрос', 'почему'),\n",
              " ('например', 'почему'),\n",
              " ('китайский', 'почему'),\n",
              " ('вопрос', 'например'),\n",
              " ('почему', 'например'),\n",
              " ('китайский', 'например'),\n",
              " ('японский', 'например'),\n",
              " ('почему', 'китайский'),\n",
              " ('например', 'китайский'),\n",
              " ('японский', 'китайский'),\n",
              " ('UNK', 'китайский'),\n",
              " ('например', 'японский'),\n",
              " ('китайский', 'японский'),\n",
              " ('UNK', 'японский'),\n",
              " ('китайский', 'UNK'),\n",
              " ('японский', 'UNK')]"
            ]
          },
          "metadata": {},
          "execution_count": 17
        }
      ],
      "source": [
        "skipgram_split(sample_text, window=2)"
      ]
    },
    {
      "cell_type": "markdown",
      "metadata": {
        "id": "XR8EuuI3lt3g"
      },
      "source": [
        "# Expected\n",
        "\n",
        "```python\n",
        "[('почему', 'вопрос'),\n",
        " ('например', 'вопрос'),\n",
        " ('вопрос', 'почему'),\n",
        " ('например', 'почему'),\n",
        " ('китайский', 'почему'),\n",
        " ('вопрос', 'например'),\n",
        " ('почему', 'например'),\n",
        " ('китайский', 'например'),\n",
        " ('японский', 'например'),\n",
        " ('почему', 'китайский'),\n",
        " ('например', 'китайский'),\n",
        " ('японский', 'китайский'),\n",
        " ('UNK', 'китайский'),\n",
        " ('например', 'японский'),\n",
        " ('китайский', 'японский'),\n",
        " ('UNK', 'японский'),\n",
        " ('китайский', 'UNK'),\n",
        " ('японский', 'UNK')]\n",
        "```"
      ]
    },
    {
      "cell_type": "code",
      "execution_count": 18,
      "metadata": {
        "id": "3791gGeGlt3g",
        "outputId": "1a5026fa-604e-44b8-f921-8f128168b760",
        "colab": {
          "base_uri": "https://localhost:8080/"
        }
      },
      "outputs": [
        {
          "output_type": "execute_result",
          "data": {
            "text/plain": [
              "[('почему', 'вопрос'),\n",
              " ('например', 'вопрос'),\n",
              " ('китайский', 'вопрос'),\n",
              " ('вопрос', 'почему'),\n",
              " ('например', 'почему'),\n",
              " ('китайский', 'почему'),\n",
              " ('японский', 'почему'),\n",
              " ('вопрос', 'например'),\n",
              " ('почему', 'например'),\n",
              " ('китайский', 'например'),\n",
              " ('японский', 'например'),\n",
              " ('UNK', 'например'),\n",
              " ('вопрос', 'китайский'),\n",
              " ('почему', 'китайский'),\n",
              " ('например', 'китайский'),\n",
              " ('японский', 'китайский'),\n",
              " ('UNK', 'китайский'),\n",
              " ('почему', 'японский'),\n",
              " ('например', 'японский'),\n",
              " ('китайский', 'японский'),\n",
              " ('UNK', 'японский'),\n",
              " ('например', 'UNK'),\n",
              " ('китайский', 'UNK'),\n",
              " ('японский', 'UNK')]"
            ]
          },
          "metadata": {},
          "execution_count": 18
        }
      ],
      "source": [
        "skipgram_split(sample_text, window=3)"
      ]
    },
    {
      "cell_type": "markdown",
      "metadata": {
        "id": "5l4wC5Pmlt3h"
      },
      "source": [
        "# Expected\n",
        "\n",
        "```python\n",
        "[('почему', 'вопрос'),\n",
        " ('например', 'вопрос'),\n",
        " ('китайский', 'вопрос'),\n",
        " ('вопрос', 'почему'),\n",
        " ('например', 'почему'),\n",
        " ('китайский', 'почему'),\n",
        " ('японский', 'почему'),\n",
        " ('вопрос', 'например'),\n",
        " ('почему', 'например'),\n",
        " ('китайский', 'например'),\n",
        " ('японский', 'например'),\n",
        " ('UNK', 'например'),\n",
        " ('вопрос', 'китайский'),\n",
        " ('почему', 'китайский'),\n",
        " ('например', 'китайский'),\n",
        " ('японский', 'китайский'),\n",
        " ('UNK', 'китайский'),\n",
        " ('почему', 'японский'),\n",
        " ('например', 'японский'),\n",
        " ('китайский', 'японский'),\n",
        " ('UNK', 'японский'),\n",
        " ('например', 'UNK'),\n",
        " ('китайский', 'UNK'),\n",
        " ('японский', 'UNK')]\n",
        "```"
      ]
    },
    {
      "cell_type": "code",
      "execution_count": 19,
      "metadata": {
        "id": "yasvzNgllt3h"
      },
      "outputs": [],
      "source": [
        "word2index = {}\n",
        "\n",
        "for text in corpus:\n",
        "    for token in text:\n",
        "        if token not in word2index:\n",
        "            word2index[token] = len(word2index)"
      ]
    },
    {
      "cell_type": "code",
      "execution_count": 20,
      "metadata": {
        "id": "ObHj8fWwlt3i",
        "outputId": "545ddc9d-b818-4c7f-dd51-65b153e14baf",
        "colab": {
          "base_uri": "https://localhost:8080/"
        }
      },
      "outputs": [
        {
          "output_type": "execute_result",
          "data": {
            "text/plain": [
              "13076"
            ]
          },
          "metadata": {},
          "execution_count": 20
        }
      ],
      "source": [
        "len(word2index)"
      ]
    },
    {
      "cell_type": "code",
      "execution_count": 21,
      "metadata": {
        "id": "O6KnhLD_lt3i",
        "outputId": "d678b88e-90ba-4d76-9adf-21c30182586a",
        "colab": {
          "base_uri": "https://localhost:8080/"
        }
      },
      "outputs": [
        {
          "output_type": "execute_result",
          "data": {
            "text/plain": [
              "1"
            ]
          },
          "metadata": {},
          "execution_count": 21
        }
      ],
      "source": [
        "word2index['UNK']"
      ]
    },
    {
      "cell_type": "code",
      "execution_count": 22,
      "metadata": {
        "id": "hA8CvCHvlt3i",
        "outputId": "2f2914f8-57ed-42a0-89ac-83dc452adf89",
        "colab": {
          "base_uri": "https://localhost:8080/"
        }
      },
      "outputs": [
        {
          "output_type": "execute_result",
          "data": {
            "text/plain": [
              "[1282, 8436, 1]"
            ]
          },
          "metadata": {},
          "execution_count": 22
        }
      ],
      "source": [
        "[word2index[tok] if tok in word2index else word2index['UNK'] for tok in 'мама мыть рама'.split()]"
      ]
    },
    {
      "cell_type": "markdown",
      "metadata": {
        "id": "2ss_fQX0lt3j"
      },
      "source": [
        "# Torch Dataset\n",
        "В торче есть очень удобная читалка данных"
      ]
    },
    {
      "cell_type": "code",
      "execution_count": 23,
      "metadata": {
        "id": "MAuLavvClt3j"
      },
      "outputs": [],
      "source": [
        "from torch.utils.data import Dataset, DataLoader"
      ]
    },
    {
      "cell_type": "code",
      "execution_count": 24,
      "metadata": {
        "id": "B8mAwGKflt3k"
      },
      "outputs": [],
      "source": [
        "# игрушечный датасет\n",
        "# 121535 примера, 4 фичи, 3 класса\n",
        "some_data_x = np.random.rand(121535, 4)\n",
        "some_data_y = np.random.randint(3, size=(121535,))"
      ]
    },
    {
      "cell_type": "code",
      "execution_count": 25,
      "metadata": {
        "id": "ICbg79mdlt3k",
        "outputId": "45fbac48-d410-41ec-b33c-b9bc12f854d4",
        "colab": {
          "base_uri": "https://localhost:8080/"
        }
      },
      "outputs": [
        {
          "output_type": "execute_result",
          "data": {
            "text/plain": [
              "array([[0.85256421, 0.60007667, 0.61468165, 0.90059505],\n",
              "       [0.56494059, 0.46097187, 0.57937477, 0.16303077],\n",
              "       [0.39309644, 0.93208206, 0.9235802 , 0.48243735],\n",
              "       [0.92510753, 0.45569648, 0.45575032, 0.24482293],\n",
              "       [0.4713449 , 0.51652623, 0.49757421, 0.41086871],\n",
              "       [0.50741011, 0.11695107, 0.13684302, 0.52114684],\n",
              "       [0.05065713, 0.81633607, 0.25194199, 0.38913158],\n",
              "       [0.90957756, 0.96788917, 0.24219661, 0.85688613],\n",
              "       [0.18966592, 0.3160724 , 0.07196351, 0.20331011],\n",
              "       [0.57097594, 0.94168529, 0.39005382, 0.94668154]])"
            ]
          },
          "metadata": {},
          "execution_count": 25
        }
      ],
      "source": [
        "# соверешенно игрушечный, просто цифры\n",
        "some_data_x[:10]"
      ]
    },
    {
      "cell_type": "code",
      "execution_count": 26,
      "metadata": {
        "id": "VAE8hY3ylt3l",
        "outputId": "a66349d7-6117-471b-8345-00d6c642e760",
        "colab": {
          "base_uri": "https://localhost:8080/"
        }
      },
      "outputs": [
        {
          "output_type": "execute_result",
          "data": {
            "text/plain": [
              "array([1, 0, 0, ..., 1, 2, 1])"
            ]
          },
          "metadata": {},
          "execution_count": 26
        }
      ],
      "source": [
        "some_data_y"
      ]
    },
    {
      "cell_type": "code",
      "execution_count": 27,
      "metadata": {
        "id": "6x5wyRQult3l"
      },
      "outputs": [],
      "source": [
        "class ToyDataset(Dataset):\n",
        "\n",
        "    def __init__(self, data_x, data_y):\n",
        "\n",
        "        super().__init__()\n",
        "\n",
        "        self.data_x = data_x\n",
        "        self.data_y = data_y\n",
        "\n",
        "    def __len__(self):\n",
        "\n",
        "        # Нужно обязательно определить эту функцию\n",
        "        # Должна возвращать размер датасета\n",
        "\n",
        "        return len(self.data_x)\n",
        "\n",
        "    def __getitem__(self, idx):\n",
        "\n",
        "        # Еще нужно определить этот метод\n",
        "        # То есть как мы будем доставать наши данные по индексу\n",
        "\n",
        "        return self.data_x[idx], self.data_y[idx]"
      ]
    },
    {
      "cell_type": "code",
      "execution_count": 28,
      "metadata": {
        "id": "V-5JMkP2lt3m"
      },
      "outputs": [],
      "source": [
        "some_dataset = ToyDataset(some_data_x, some_data_y)"
      ]
    },
    {
      "cell_type": "code",
      "execution_count": 29,
      "metadata": {
        "id": "1nHtOzo4lt3m",
        "outputId": "3ebd3a54-41de-4434-c371-ea357f681a91",
        "colab": {
          "base_uri": "https://localhost:8080/"
        }
      },
      "outputs": [
        {
          "output_type": "execute_result",
          "data": {
            "text/plain": [
              "((array([0.50741011, 0.11695107, 0.13684302, 0.52114684]), 2),\n",
              " (array([0.71132442, 0.63067271, 0.04643535, 0.48422707]), 2))"
            ]
          },
          "metadata": {},
          "execution_count": 29
        }
      ],
      "source": [
        "some_dataset[5], some_dataset[467]"
      ]
    },
    {
      "cell_type": "code",
      "execution_count": 30,
      "metadata": {
        "id": "_WJ-CAC3lt32"
      },
      "outputs": [],
      "source": [
        "some_loader = DataLoader(some_dataset, batch_size=16, shuffle=True)"
      ]
    },
    {
      "cell_type": "code",
      "execution_count": 31,
      "metadata": {
        "id": "DKnMEmmSlt33",
        "outputId": "94845fae-913e-4263-dd2b-0dc72a721eb6",
        "colab": {
          "base_uri": "https://localhost:8080/"
        }
      },
      "outputs": [
        {
          "output_type": "execute_result",
          "data": {
            "text/plain": [
              "(16,\n",
              " tensor([[0.7435, 0.8544, 0.6071, 0.3466],\n",
              "         [0.1419, 0.5001, 0.3565, 0.0214],\n",
              "         [0.8010, 0.2623, 0.3447, 0.2008],\n",
              "         [0.4928, 0.6866, 0.0546, 0.1723],\n",
              "         [0.2404, 0.0542, 0.3791, 0.2550],\n",
              "         [0.1142, 0.2082, 0.6265, 0.9625],\n",
              "         [0.6809, 0.8379, 0.6010, 0.5990],\n",
              "         [0.2427, 0.3808, 0.2548, 0.4449],\n",
              "         [0.3426, 0.3177, 0.5254, 0.8483],\n",
              "         [0.3182, 0.4423, 0.5605, 0.2819],\n",
              "         [0.9603, 0.9130, 0.2768, 0.1876],\n",
              "         [0.9461, 0.8437, 0.8740, 0.3711],\n",
              "         [0.6882, 0.6912, 0.0130, 0.4889],\n",
              "         [0.6127, 0.3654, 0.3882, 0.0233],\n",
              "         [0.4775, 0.5936, 0.6340, 0.5856],\n",
              "         [0.5821, 0.0489, 0.3720, 0.2997]], dtype=torch.float64))"
            ]
          },
          "metadata": {},
          "execution_count": 31
        }
      ],
      "source": [
        "for x, y in some_loader:\n",
        "    break\n",
        "\n",
        "len(x), x"
      ]
    },
    {
      "cell_type": "code",
      "execution_count": 32,
      "metadata": {
        "id": "jhjlzHdalt33",
        "outputId": "c5e5fc2f-d5e8-4300-c469-2211bcf30812",
        "colab": {
          "base_uri": "https://localhost:8080/"
        }
      },
      "outputs": [
        {
          "output_type": "execute_result",
          "data": {
            "text/plain": [
              "15"
            ]
          },
          "metadata": {},
          "execution_count": 32
        }
      ],
      "source": [
        "for x, y in some_loader:\n",
        "    pass\n",
        "\n",
        "len(x)"
      ]
    },
    {
      "cell_type": "code",
      "execution_count": 33,
      "metadata": {
        "id": "SjZ0Fa_glt33",
        "outputId": "eb025051-63db-4921-d573-a85338ad7e26",
        "colab": {
          "base_uri": "https://localhost:8080/"
        }
      },
      "outputs": [
        {
          "output_type": "execute_result",
          "data": {
            "text/plain": [
              "15"
            ]
          },
          "metadata": {},
          "execution_count": 33
        }
      ],
      "source": [
        "# почему 13?\n",
        "# потому что количество наших данных нацело не делится на 16\n",
        "# и поэтому последний батч меньше 16-ти\n",
        "len(some_dataset) % 16"
      ]
    },
    {
      "cell_type": "markdown",
      "metadata": {
        "id": "NrBPcaqUlt34"
      },
      "source": [
        "# А зачем?"
      ]
    },
    {
      "cell_type": "code",
      "execution_count": 34,
      "metadata": {
        "id": "nDrb9sBClt34"
      },
      "outputs": [],
      "source": [
        "class ToyDataset(Dataset):\n",
        "\n",
        "    def __init__(self, data_x, data_y):\n",
        "\n",
        "        super().__init__()\n",
        "\n",
        "        self.data_x = data_x\n",
        "        self.data_y = data_y\n",
        "\n",
        "    def __len__(self):\n",
        "\n",
        "        # Нужно обязательно определить эту функцию\n",
        "        # Должна возвращать размер датасета\n",
        "\n",
        "        return len(self.data_x)\n",
        "\n",
        "    @staticmethod\n",
        "    def add_pow_features(x, n=2):\n",
        "\n",
        "        return np.concatenate([x, x ** n])\n",
        "\n",
        "    @staticmethod\n",
        "    def add_log_features(x):\n",
        "\n",
        "        return np.concatenate([x, np.log(x)])\n",
        "\n",
        "    def __getitem__(self, idx):\n",
        "\n",
        "        # Еще нужно определить этот метод\n",
        "        # То есть как мы будем доставать наши данные по индексу\n",
        "\n",
        "        x = self.data_x[idx]\n",
        "\n",
        "        # внутри датасета мы можем делать все что угодно с нашими данными\n",
        "        # например выше определим функции, которые добавляют степенные фичи\n",
        "        x = self.add_pow_features(x, n=2)\n",
        "        x = self.add_pow_features(x, n=3)\n",
        "        # и еще возьмем логарифмические фичи\n",
        "        x = self.add_log_features(x)\n",
        "\n",
        "        y = self.data_y[idx]\n",
        "\n",
        "        return x, y"
      ]
    },
    {
      "cell_type": "code",
      "execution_count": 35,
      "metadata": {
        "id": "yFtNSvZxlt35"
      },
      "outputs": [],
      "source": [
        "toy_dataset = ToyDataset(some_data_x, some_data_y)"
      ]
    },
    {
      "cell_type": "code",
      "execution_count": 36,
      "metadata": {
        "id": "Zp-b-AUXlt35"
      },
      "outputs": [],
      "source": [
        "toy_loader = DataLoader(dataset=toy_dataset, batch_size=128)"
      ]
    },
    {
      "cell_type": "code",
      "execution_count": 37,
      "metadata": {
        "id": "zxCQE9Yflt35"
      },
      "outputs": [],
      "source": [
        "for x, y in toy_loader:\n",
        "    break"
      ]
    },
    {
      "cell_type": "code",
      "execution_count": 38,
      "metadata": {
        "id": "ftWnHuZ7lt35",
        "outputId": "0823597f-8223-47be-946a-81dddbf5a544",
        "colab": {
          "base_uri": "https://localhost:8080/"
        }
      },
      "outputs": [
        {
          "output_type": "execute_result",
          "data": {
            "text/plain": [
              "torch.Size([128, 32])"
            ]
          },
          "metadata": {},
          "execution_count": 38
        }
      ],
      "source": [
        "x.shape"
      ]
    },
    {
      "cell_type": "code",
      "execution_count": 39,
      "metadata": {
        "id": "IiieUj3ylt36",
        "outputId": "2930a35a-3fa6-4346-9b36-d9acea8e5a4f",
        "colab": {
          "base_uri": "https://localhost:8080/"
        }
      },
      "outputs": [
        {
          "output_type": "execute_result",
          "data": {
            "text/plain": [
              "tensor([[  0.8526,   0.6001,   0.6147,  ...,  -3.0642,  -2.9199,  -0.6282],\n",
              "        [  0.5649,   0.4610,   0.5794,  ...,  -4.6465,  -3.2748, -10.8829],\n",
              "        [  0.3931,   0.9321,   0.9236,  ...,  -0.4220,  -0.4770,  -4.3734],\n",
              "        ...,\n",
              "        [  0.4482,   0.5911,   0.9520,  ...,  -3.1543,  -0.2952, -11.8734],\n",
              "        [  0.9232,   0.9450,   0.8983,  ...,  -0.3395,  -0.6437, -16.8543],\n",
              "        [  0.6543,   0.7825,   0.4948,  ...,  -1.4714,  -4.2222,  -1.3946]],\n",
              "       dtype=torch.float64)"
            ]
          },
          "metadata": {},
          "execution_count": 39
        }
      ],
      "source": [
        "# заметим, что мы сразу получаем торчовый формат данных\n",
        "x"
      ]
    },
    {
      "cell_type": "code",
      "execution_count": 40,
      "metadata": {
        "id": "Uu6BxmyQlt36",
        "outputId": "7ea31dd8-ab2f-4370-8035-1c7de889279f",
        "colab": {
          "base_uri": "https://localhost:8080/"
        }
      },
      "outputs": [
        {
          "output_type": "execute_result",
          "data": {
            "text/plain": [
              "tensor([1, 0, 0, 1, 1, 2, 1, 1, 1, 0, 0, 1, 2, 0, 2, 1, 2, 1, 0, 2, 1, 2, 2, 0,\n",
              "        1, 1, 2, 0, 2, 0, 2, 0, 1, 2, 0, 1, 2, 1, 1, 1, 0, 2, 1, 1, 1, 0, 1, 2,\n",
              "        0, 1, 1, 2, 1, 0, 1, 0, 2, 2, 1, 1, 2, 2, 0, 0, 2, 2, 2, 0, 2, 2, 2, 1,\n",
              "        0, 0, 0, 2, 2, 1, 0, 0, 2, 0, 0, 2, 1, 2, 0, 2, 2, 2, 0, 2, 1, 1, 1, 0,\n",
              "        2, 1, 2, 1, 1, 0, 2, 2, 0, 0, 1, 0, 0, 2, 0, 1, 1, 0, 2, 1, 2, 2, 2, 0,\n",
              "        1, 1, 1, 2, 1, 0, 0, 1])"
            ]
          },
          "metadata": {},
          "execution_count": 40
        }
      ],
      "source": [
        "y"
      ]
    },
    {
      "cell_type": "markdown",
      "metadata": {
        "id": "B-Vq7cK9lt36"
      },
      "source": [
        "# Если вы ничего здесь не понимаете, то вернитесь в конец первой домашки, там все объясняется"
      ]
    },
    {
      "cell_type": "code",
      "execution_count": 41,
      "metadata": {
        "id": "ch48yuuHlt37"
      },
      "outputs": [],
      "source": [
        "model = torch.nn.Sequential(torch.nn.Linear(32, 16),\n",
        "                            torch.nn.ReLU(),\n",
        "                            torch.nn.Linear(16, 8),\n",
        "                            torch.nn.ReLU(),\n",
        "                            torch.nn.Linear(8, 3))\n",
        "\n",
        "criterion = torch.nn.CrossEntropyLoss()"
      ]
    },
    {
      "cell_type": "code",
      "execution_count": 42,
      "metadata": {
        "id": "iiu9D15ilt37",
        "outputId": "5b926ad6-f207-4604-cee5-9e74cf884414",
        "colab": {
          "base_uri": "https://localhost:8080/"
        }
      },
      "outputs": [
        {
          "output_type": "execute_result",
          "data": {
            "text/plain": [
              "1.1090108156204224"
            ]
          },
          "metadata": {},
          "execution_count": 42
        }
      ],
      "source": [
        "with torch.no_grad():\n",
        "\n",
        "    prediction = model(x.float())\n",
        "\n",
        "    loss = criterion(prediction, y)\n",
        "\n",
        "loss.item()"
      ]
    },
    {
      "cell_type": "markdown",
      "metadata": {
        "id": "I3tPhGw6lt38"
      },
      "source": [
        "# Боевые датасеты"
      ]
    },
    {
      "cell_type": "code",
      "execution_count": 43,
      "metadata": {
        "id": "KEyXFdUWlt38"
      },
      "outputs": [],
      "source": [
        "class CBOWDataset(Dataset):\n",
        "\n",
        "    def __init__(self,\n",
        "                 corpus,\n",
        "                 word2index,\n",
        "                 window=2,\n",
        "                 unk_token='UNK',\n",
        "                 pad_token='PAD',\n",
        "                 collect_verbose=True):\n",
        "\n",
        "        self.corpus = corpus\n",
        "        self.word2index = word2index\n",
        "        self.index2word = {value: key for key, value in self.word2index.items()}\n",
        "        self.window = window\n",
        "\n",
        "        self.unk_token = unk_token\n",
        "        self.unk_index = self.word2index[self.unk_token]\n",
        "\n",
        "        self.pad_token = pad_token\n",
        "        self.pad_index = len(self.word2index)\n",
        "\n",
        "        self.collect_verbose = collect_verbose\n",
        "\n",
        "        self.data = []\n",
        "\n",
        "        self.collect_data()\n",
        "\n",
        "    def __len__(self):\n",
        "\n",
        "        return len(self.data)\n",
        "\n",
        "    def _split_function(self, tokenized_text):\n",
        "\n",
        "        splits = []\n",
        "\n",
        "        for n in range(len(tokenized_text)):\n",
        "            left_context = tokenized_text[np.maximum(n - self.window, 0):n]\n",
        "            left_context = ([self.pad_index] * (self.window - len(left_context))) + left_context\n",
        "\n",
        "            central_word = tokenized_text[n]\n",
        "\n",
        "            right_context = tokenized_text[n + 1:n + self.window + 1]\n",
        "            right_context = right_context + ([self.pad_index] * (self.window - len(right_context)))\n",
        "\n",
        "            splits.append((left_context + right_context, central_word))\n",
        "\n",
        "        return splits\n",
        "\n",
        "    def indexing(self, tokenized_text):\n",
        "\n",
        "        return [self.word2index[token] if token in self.word2index else self.unk_index for token in tokenized_text]\n",
        "\n",
        "    def collect_data(self):\n",
        "\n",
        "        corpus = tqdm(self.corpus, disable=not self.collect_verbose)\n",
        "\n",
        "        for tokenized_text in corpus:\n",
        "            indexed_text = self.indexing(tokenized_text)\n",
        "            cbow_examples = self._split_function(indexed_text)\n",
        "\n",
        "            self.data.extend(cbow_examples)\n",
        "\n",
        "    def __getitem__(self, idx):\n",
        "\n",
        "        context, central_word = self.data[idx]\n",
        "\n",
        "        context = torch.Tensor(context).long()\n",
        "\n",
        "        return context, central_word"
      ]
    },
    {
      "cell_type": "markdown",
      "metadata": {
        "id": "gPGTSe7Clt39"
      },
      "source": [
        "# Мы будем учить модель Skipgram\n",
        "Реализуйте читалку данных"
      ]
    },
    {
      "cell_type": "code",
      "execution_count": 44,
      "metadata": {
        "id": "JBwNI-Ihlt39"
      },
      "outputs": [],
      "source": [
        "class SkipgramDataset(Dataset):\n",
        "\n",
        "    def __init__(self,\n",
        "                 corpus,\n",
        "                 word2index,\n",
        "                 window=2,\n",
        "                 unk_token='UNK',\n",
        "                 collect_verbose=True):\n",
        "\n",
        "        self.corpus = corpus\n",
        "        self.word2index = word2index\n",
        "        self.window = window\n",
        "        self.unk_token = unk_token\n",
        "        self.collect_verbose = collect_verbose\n",
        "        self.data = []\n",
        "        self.collect_data()\n",
        "\n",
        "\n",
        "    def __len__(self):\n",
        "\n",
        "        return len(self.data)\n",
        "\n",
        "    def _split_function(self, tokenized_text):\n",
        "\n",
        "        # CODE\n",
        "\n",
        "        # вставить здесь функцию, которые вы писали раньше\n",
        "\n",
        "        splits = skipgram_split(tokenized_text, self.window)\n",
        "\n",
        "        return splits\n",
        "\n",
        "    def indexing(self, tokenized_text):\n",
        "\n",
        "        return [self.word2index[token] if token in self.word2index else self.unk_token for token in tokenized_text]\n",
        "\n",
        "    def collect_data(self):\n",
        "\n",
        "        corpus = tqdm(self.corpus, disable=not self.collect_verbose)\n",
        "\n",
        "        for tokenized_text in corpus:\n",
        "            indexed_text = self.indexing(tokenized_text)\n",
        "            skipgram_examples = self._split_function(indexed_text)\n",
        "\n",
        "            self.data.extend(skipgram_examples)\n",
        "\n",
        "    def __getitem__(self, idx):\n",
        "\n",
        "        # CODE\n",
        "        context, central_word = self.data[idx]\n",
        "\n",
        "        return context, central_word"
      ]
    },
    {
      "cell_type": "code",
      "execution_count": 45,
      "metadata": {
        "id": "TW9K7uirlt3-"
      },
      "outputs": [],
      "source": [
        "# можете положить SkipgramDataset в отдельный файлик, например word2vec_utils и относительным импортом достать его\n",
        "#from .word2vec_utils import SkipgramDataset"
      ]
    },
    {
      "cell_type": "code",
      "execution_count": 46,
      "metadata": {
        "scrolled": true,
        "id": "u0mop6RPlt3-",
        "outputId": "2eacc85b-dc93-4976-8f54-9747640e9837",
        "colab": {
          "base_uri": "https://localhost:8080/"
        }
      },
      "outputs": [
        {
          "output_type": "stream",
          "name": "stderr",
          "text": [
            "100%|██████████| 100000/100000 [00:06<00:00, 15140.35it/s]\n"
          ]
        }
      ],
      "source": [
        "dataset = SkipgramDataset(corpus, word2index)"
      ]
    },
    {
      "cell_type": "code",
      "execution_count": 47,
      "metadata": {
        "id": "2BmweA3elt3-"
      },
      "outputs": [],
      "source": [
        "BATCH_SIZE = 512"
      ]
    },
    {
      "cell_type": "code",
      "execution_count": 48,
      "metadata": {
        "id": "1DrdU519lt3_"
      },
      "outputs": [],
      "source": [
        "dataset_loader = DataLoader(dataset, shuffle=True, batch_size=BATCH_SIZE)"
      ]
    },
    {
      "cell_type": "code",
      "execution_count": 49,
      "metadata": {
        "id": "mYkNH-7ilt4D"
      },
      "outputs": [],
      "source": [
        "for x, y in dataset_loader:\n",
        "    break"
      ]
    },
    {
      "cell_type": "code",
      "execution_count": 50,
      "metadata": {
        "id": "oJsM-Bl3lt4E",
        "outputId": "799a8d1e-61e3-458d-9e0d-2fa7c2bd1688",
        "colab": {
          "base_uri": "https://localhost:8080/"
        }
      },
      "outputs": [
        {
          "output_type": "execute_result",
          "data": {
            "text/plain": [
              "tensor([8287, 2278,   47,  349,   36])"
            ]
          },
          "metadata": {},
          "execution_count": 50
        }
      ],
      "source": [
        "x[:5]"
      ]
    },
    {
      "cell_type": "code",
      "execution_count": 51,
      "metadata": {
        "id": "YDAax0sSlt4E",
        "outputId": "45b002ab-8e14-4fd9-dfe0-944c497b07ee",
        "colab": {
          "base_uri": "https://localhost:8080/"
        }
      },
      "outputs": [
        {
          "output_type": "execute_result",
          "data": {
            "text/plain": [
              "tensor([  5,  32, 444, 356, 557])"
            ]
          },
          "metadata": {},
          "execution_count": 51
        }
      ],
      "source": [
        "y[:5]"
      ]
    },
    {
      "cell_type": "code",
      "execution_count": 52,
      "metadata": {
        "id": "oSqHCuL7lt4F",
        "outputId": "a38e9c17-beef-4236-8b50-8524d628ce04",
        "colab": {
          "base_uri": "https://localhost:8080/"
        }
      },
      "outputs": [
        {
          "output_type": "execute_result",
          "data": {
            "text/plain": [
              "(torch.Size([512]), torch.Size([512]))"
            ]
          },
          "metadata": {},
          "execution_count": 52
        }
      ],
      "source": [
        "x.shape, y.shape"
      ]
    },
    {
      "cell_type": "code",
      "execution_count": 53,
      "metadata": {
        "id": "b4bQ2GFYlt4G"
      },
      "outputs": [],
      "source": [
        "class CBOW(torch.nn.Module):\n",
        "\n",
        "    def __init__(self, vocab_size, embedding_dim, pad_index):\n",
        "\n",
        "        super().__init__()\n",
        "\n",
        "        if pad_index > 0:\n",
        "            vocab_size += 1\n",
        "\n",
        "        self.in_embedding = torch.nn.Embedding(num_embeddings=vocab_size,\n",
        "                                               embedding_dim=embedding_dim,\n",
        "                                               padding_idx=pad_index)\n",
        "\n",
        "        self.out_embedding = torch.nn.Linear(in_features=embedding_dim,\n",
        "                                             out_features=vocab_size, bias=False)\n",
        "\n",
        "    def forward(self, x):\n",
        "\n",
        "        x = self.in_embedding(x).sum(dim=-2)\n",
        "        x = self.out_embedding(x)\n",
        "\n",
        "        return x"
      ]
    },
    {
      "cell_type": "markdown",
      "metadata": {
        "id": "e_4BjbUilt4G"
      },
      "source": [
        "# Мы будем учить модель Skipgram\n",
        "Реализуйте ее"
      ]
    },
    {
      "cell_type": "code",
      "execution_count": 54,
      "metadata": {
        "id": "NqngFjhElt4H"
      },
      "outputs": [],
      "source": [
        "# CODE\n",
        "class SkipGram(torch.nn.Module):\n",
        "  def __init__(self, vocab_size, embedding_dim):\n",
        "      super().__init__()\n",
        "      self.in_embedding = torch.nn.Embedding(num_embeddings=vocab_size,\n",
        "                                              embedding_dim=embedding_dim)\n",
        "\n",
        "      self.out_embedding = torch.nn.Linear(in_features=embedding_dim,\n",
        "                                            out_features=vocab_size, bias=False)\n",
        "      self.sigm = torch.nn.Sigmoid()\n",
        "\n",
        "  def forward(self, x):\n",
        "\n",
        "      x = self.in_embedding(x).sum(dim=-2)\n",
        "      x = self.out_embedding(x)\n",
        "      x = self.sigm(x)\n",
        "\n",
        "      return x"
      ]
    },
    {
      "cell_type": "code",
      "execution_count": 55,
      "metadata": {
        "id": "YJiiv0oNlt4H"
      },
      "outputs": [],
      "source": [
        "#from word2vec_utils import SkipGram"
      ]
    },
    {
      "cell_type": "code",
      "execution_count": 56,
      "metadata": {
        "id": "V3x8gCd5lt4I"
      },
      "outputs": [],
      "source": [
        "# размерность эмбеддинга\n",
        "# маленькая, чтобы мы могли недолго поучить ворд2век и увидеть результаты\n",
        "EMBEDDING_DIM = 20"
      ]
    },
    {
      "cell_type": "code",
      "execution_count": 57,
      "metadata": {
        "id": "lk-6yUZvlt4I"
      },
      "outputs": [],
      "source": [
        "model = SkipGram(vocab_size=len(word2index), embedding_dim=EMBEDDING_DIM)"
      ]
    },
    {
      "cell_type": "code",
      "execution_count": 58,
      "metadata": {
        "id": "Gmu1baydlt4J",
        "outputId": "3b083051-573d-40e9-a153-7f228bb77127",
        "colab": {
          "base_uri": "https://localhost:8080/"
        }
      },
      "outputs": [
        {
          "output_type": "execute_result",
          "data": {
            "text/plain": [
              "torch.Size([13076])"
            ]
          },
          "metadata": {},
          "execution_count": 58
        }
      ],
      "source": [
        "with torch.no_grad():\n",
        "    pred = model(x)\n",
        "\n",
        "pred.shape"
      ]
    },
    {
      "cell_type": "code",
      "execution_count": 59,
      "metadata": {
        "id": "SDzJzrTilt4K"
      },
      "outputs": [],
      "source": [
        "optimizer = torch.optim.Adam(params=model.parameters(), lr=0.0001)\n",
        "\n",
        "# aka loss function\n",
        "criterion = torch.nn.CrossEntropyLoss()"
      ]
    },
    {
      "cell_type": "markdown",
      "metadata": {
        "id": "hbQ3a86Glt4K"
      },
      "source": [
        "# Допишите обучалку"
      ]
    },
    {
      "cell_type": "code",
      "execution_count": null,
      "metadata": {
        "id": "NWwkM246lt4L",
        "outputId": "a9292f7f-2b93-4757-eb01-f23b0dad3dd5",
        "colab": {
          "base_uri": "https://localhost:8080/"
        }
      },
      "outputs": [
        {
          "output_type": "stream",
          "name": "stderr",
          "text": [
            "100%|██████████| 5827/5827 [11:13<00:00,  8.65it/s]\n",
            "100%|██████████| 5827/5827 [11:07<00:00,  8.74it/s]\n",
            "100%|██████████| 5827/5827 [11:15<00:00,  8.62it/s]\n",
            "100%|██████████| 5827/5827 [11:11<00:00,  8.68it/s]\n",
            "100%|██████████| 5827/5827 [11:25<00:00,  8.50it/s]\n"
          ]
        }
      ],
      "source": [
        "epochs = 5\n",
        "negative_samples = 5\n",
        "losses = []\n",
        "\n",
        "for n_epoch in range(epochs):\n",
        "\n",
        "\n",
        "  for x, y in tqdm(dataset_loader):\n",
        "\n",
        "      # CODE\n",
        "      logits = model(x.unsqueeze(-1))\n",
        "      pred = logits[np.arange(len(x)), y].view(-1, 1)\n",
        "      val = torch.ones((len(y), 1)).view(-1, 1)\n",
        "      for _ in range(negative_samples):\n",
        "        pred_false = logits[np.arange(len(x)), np.random.randint(low=0, high=len(word2index)-1, size=len(y))]\n",
        "        pred = torch.concat((pred, pred_false.view(-1, 1)), axis=1)\n",
        "        val = torch.concat((val, torch.zeros((len(y), 1))), axis=1)\n",
        "      loss = criterion(pred, val)\n",
        "      loss.backward()\n",
        "      optimizer.step()\n",
        "      optimizer.zero_grad()\n",
        "      # CODE\n",
        "\n",
        "      losses.append(loss.item())"
      ]
    },
    {
      "cell_type": "code",
      "execution_count": null,
      "metadata": {
        "id": "Vds-wziYlt4L",
        "outputId": "6c5f5955-df7f-49a9-db6f-996dd8e07885",
        "colab": {
          "base_uri": "https://localhost:8080/",
          "height": 1000
        }
      },
      "outputs": [
        {
          "output_type": "execute_result",
          "data": {
            "text/plain": [
              "[<matplotlib.lines.Line2D at 0x7c39b91410f0>]"
            ]
          },
          "metadata": {},
          "execution_count": 122
        },
        {
          "output_type": "display_data",
          "data": {
            "text/plain": [
              "<Figure size 1500x1500 with 1 Axes>"
            ],
            "image/png": "[encoded data removed]"
          },
          "metadata": {}
        }
      ],
      "source": [
        "plt.title('SkipGram Training Process')\n",
        "plt.xlabel('Itearations')\n",
        "plt.ylabel('Loss')\n",
        "plt.grid()\n",
        "plt.plot(losses)"
      ]
    },
    {
      "cell_type": "code",
      "execution_count": null,
      "metadata": {
        "id": "AcJ3L4o5lt4M"
      },
      "outputs": [],
      "source": [
        "# проверка, что хоть что-то выучилось\n",
        "assert np.mean(losses[-1000:]) < 7.5"
      ]
    },
    {
      "cell_type": "code",
      "execution_count": null,
      "metadata": {
        "id": "yBHhT7Nrlt4M"
      },
      "outputs": [],
      "source": [
        "embedding_matrix = model.in_embedding.weight.detach()"
      ]
    },
    {
      "cell_type": "code",
      "execution_count": 60,
      "metadata": {
        "id": "AwuO7II3lt4N"
      },
      "outputs": [],
      "source": [
        "def cos_sim(embedding_matrix, token2id, word1, word2):\n",
        "\n",
        "    i1 = token2id[word1]\n",
        "    i2 = token2id[word2]\n",
        "\n",
        "    v1, v2 = embedding_matrix[i1], embedding_matrix[i2]\n",
        "\n",
        "    v1_n = v1.div(v1.norm(keepdim=True))\n",
        "    v2_n = v2.div(v2.norm(keepdim=True))\n",
        "\n",
        "    similarity = torch.dot(v1_n, v2_n).item()\n",
        "\n",
        "    return similarity"
      ]
    },
    {
      "cell_type": "markdown",
      "metadata": {
        "id": "yms89bpMlt4N"
      },
      "source": [
        "# Косинусная близость\n",
        "От 0 до 1, где 0 - вектора абсолютно разные, где 1 - идентичные."
      ]
    },
    {
      "cell_type": "code",
      "execution_count": null,
      "metadata": {
        "id": "Gm2y8L3Clt4O",
        "outputId": "a09bc626-0f23-492d-c71f-1c5e7d6aff97",
        "colab": {
          "base_uri": "https://localhost:8080/"
        }
      },
      "outputs": [
        {
          "output_type": "execute_result",
          "data": {
            "text/plain": [
              "0.7087128758430481"
            ]
          },
          "metadata": {},
          "execution_count": 126
        }
      ],
      "source": [
        "cos_sim(embedding_matrix, word2index, 'день', 'месяц')"
      ]
    },
    {
      "cell_type": "code",
      "execution_count": null,
      "metadata": {
        "id": "sXGij_6vlt4P",
        "outputId": "e24761dc-32e1-4034-d79b-d683f662edf1",
        "colab": {
          "base_uri": "https://localhost:8080/"
        }
      },
      "outputs": [
        {
          "output_type": "execute_result",
          "data": {
            "text/plain": [
              "0.38135114312171936"
            ]
          },
          "metadata": {},
          "execution_count": 127
        }
      ],
      "source": [
        "cos_sim(embedding_matrix, word2index, 'минута', 'месяц')"
      ]
    },
    {
      "cell_type": "code",
      "execution_count": null,
      "metadata": {
        "id": "PEN-GukPlt4P",
        "outputId": "3ef7710e-8f5c-475a-d8cd-e983e1334551",
        "colab": {
          "base_uri": "https://localhost:8080/"
        }
      },
      "outputs": [
        {
          "output_type": "execute_result",
          "data": {
            "text/plain": [
              "0.5998148918151855"
            ]
          },
          "metadata": {},
          "execution_count": 128
        }
      ],
      "source": [
        "cos_sim(embedding_matrix, word2index, 'сотрудник', 'сотрудница')"
      ]
    },
    {
      "cell_type": "code",
      "execution_count": null,
      "metadata": {
        "id": "kTQcB84-lt4Q",
        "outputId": "fe90c4ee-1cf3-440c-9f24-4b2d426c8086",
        "colab": {
          "base_uri": "https://localhost:8080/"
        }
      },
      "outputs": [
        {
          "output_type": "execute_result",
          "data": {
            "text/plain": [
              "0.7024405598640442"
            ]
          },
          "metadata": {},
          "execution_count": 129
        }
      ],
      "source": [
        "cos_sim(embedding_matrix, word2index, 'вклад', 'перевод')"
      ]
    },
    {
      "cell_type": "code",
      "execution_count": null,
      "metadata": {
        "id": "xbaFVzJYlt4Q",
        "outputId": "f452f225-32a6-401c-bffe-aade1ca2acc1",
        "colab": {
          "base_uri": "https://localhost:8080/",
          "height": 36
        }
      },
      "outputs": [
        {
          "output_type": "execute_result",
          "data": {
            "text/plain": [
              "'Косинусная близость слова \"день\" к случайному выбраному слову \"финансбанк\" равна 0.079'"
            ],
            "application/vnd.google.colaboratory.intrinsic+json": {
              "type": "string"
            }
          },
          "metadata": {},
          "execution_count": 131
        }
      ],
      "source": [
        "random_word = random.choice(list(word2index.keys()))\n",
        "sim = cos_sim(embedding_matrix, word2index, 'день', random_word)\n",
        "'Косинусная близость слова \"день\" к случайному выбраному слову \"{}\" равна {:.3f}'.format(random_word, sim)"
      ]
    },
    {
      "cell_type": "code",
      "execution_count": null,
      "metadata": {
        "id": "bCe-vwQJlt4R"
      },
      "outputs": [],
      "source": [
        "freq = {}\n",
        "\n",
        "for text in corpus:\n",
        "    for token in text:\n",
        "        if token in freq:\n",
        "            freq[token] += 1\n",
        "        else:\n",
        "            freq[token] = 1"
      ]
    },
    {
      "cell_type": "code",
      "execution_count": null,
      "metadata": {
        "id": "YMSDVwfKlt4R"
      },
      "outputs": [],
      "source": [
        "sorted_freq = [(k, freq[k]) for k in sorted(freq, key=freq.get, reverse=True)]\n",
        "top_sorted_freq = sorted_freq[0:200]"
      ]
    },
    {
      "cell_type": "code",
      "execution_count": null,
      "metadata": {
        "id": "rCAi95C2lt4S",
        "outputId": "bb4e096e-decd-47c2-9aae-75580b5c57ed",
        "colab": {
          "base_uri": "https://localhost:8080/"
        }
      },
      "outputs": [
        {
          "output_type": "stream",
          "name": "stdout",
          "text": [
            "[t-SNE] Computing 91 nearest neighbors...\n",
            "[t-SNE] Indexed 13076 samples in 0.001s...\n",
            "[t-SNE] Computed neighbors for 13076 samples in 1.332s...\n",
            "[t-SNE] Computed conditional probabilities for sample 1000 / 13076\n",
            "[t-SNE] Computed conditional probabilities for sample 2000 / 13076\n",
            "[t-SNE] Computed conditional probabilities for sample 3000 / 13076\n",
            "[t-SNE] Computed conditional probabilities for sample 4000 / 13076\n",
            "[t-SNE] Computed conditional probabilities for sample 5000 / 13076\n",
            "[t-SNE] Computed conditional probabilities for sample 6000 / 13076\n",
            "[t-SNE] Computed conditional probabilities for sample 7000 / 13076\n",
            "[t-SNE] Computed conditional probabilities for sample 8000 / 13076\n",
            "[t-SNE] Computed conditional probabilities for sample 9000 / 13076\n",
            "[t-SNE] Computed conditional probabilities for sample 10000 / 13076\n",
            "[t-SNE] Computed conditional probabilities for sample 11000 / 13076\n",
            "[t-SNE] Computed conditional probabilities for sample 12000 / 13076\n",
            "[t-SNE] Computed conditional probabilities for sample 13000 / 13076\n",
            "[t-SNE] Computed conditional probabilities for sample 13076 / 13076\n",
            "[t-SNE] Mean sigma: 1.224020\n",
            "[t-SNE] Computed conditional probabilities in 0.389s\n",
            "[t-SNE] Iteration 50: error = 98.8858032, gradient norm = 0.0000000 (50 iterations in 8.905s)\n",
            "[t-SNE] Iteration 50: gradient norm 0.000000. Finished.\n",
            "[t-SNE] KL divergence after 50 iterations with early exaggeration: 98.885803\n",
            "[t-SNE] Iteration 100: error = 5.7166715, gradient norm = 0.0258683 (50 iterations in 13.551s)\n",
            "[t-SNE] Iteration 150: error = 4.8496580, gradient norm = 0.0044218 (50 iterations in 11.905s)\n",
            "[t-SNE] Iteration 200: error = 4.7468147, gradient norm = 0.0051132 (50 iterations in 5.949s)\n",
            "[t-SNE] Iteration 250: error = 4.6657281, gradient norm = 0.0052240 (50 iterations in 7.731s)\n",
            "[t-SNE] Iteration 300: error = 4.6034155, gradient norm = 0.0052564 (50 iterations in 13.326s)\n",
            "[t-SNE] Iteration 350: error = 4.5545125, gradient norm = 0.0051818 (50 iterations in 8.328s)\n",
            "[t-SNE] Iteration 400: error = 4.5151029, gradient norm = 0.0051713 (50 iterations in 11.054s)\n",
            "[t-SNE] Iteration 450: error = 4.4828405, gradient norm = 0.0049787 (50 iterations in 10.553s)\n",
            "[t-SNE] Iteration 500: error = 4.4562674, gradient norm = 0.0047657 (50 iterations in 7.275s)\n",
            "[t-SNE] Iteration 550: error = 4.4341326, gradient norm = 0.0045946 (50 iterations in 5.810s)\n",
            "[t-SNE] Iteration 600: error = 4.4154491, gradient norm = 0.0042895 (50 iterations in 7.243s)\n",
            "[t-SNE] Iteration 650: error = 4.3999262, gradient norm = 0.0040549 (50 iterations in 5.699s)\n",
            "[t-SNE] Iteration 700: error = 4.3868055, gradient norm = 0.0038311 (50 iterations in 7.940s)\n",
            "[t-SNE] Iteration 750: error = 4.3753204, gradient norm = 0.0036421 (50 iterations in 9.275s)\n",
            "[t-SNE] Iteration 800: error = 4.3653998, gradient norm = 0.0034328 (50 iterations in 14.581s)\n",
            "[t-SNE] Iteration 850: error = 4.3570137, gradient norm = 0.0031048 (50 iterations in 8.131s)\n",
            "[t-SNE] Iteration 900: error = 4.3499293, gradient norm = 0.0029251 (50 iterations in 7.244s)\n",
            "[t-SNE] Iteration 950: error = 4.3437204, gradient norm = 0.0027484 (50 iterations in 6.923s)\n",
            "[t-SNE] Iteration 1000: error = 4.3381405, gradient norm = 0.0026034 (50 iterations in 10.584s)\n",
            "[t-SNE] KL divergence after 1000 iterations: 4.338140\n"
          ]
        }
      ],
      "source": [
        "tsne = TSNE(n_components=2, init='pca', random_state=42, verbose=2)\n",
        "reduced = tsne.fit_transform(embedding_matrix)"
      ]
    },
    {
      "cell_type": "code",
      "execution_count": null,
      "metadata": {
        "id": "-LI5Vouhlt4T"
      },
      "outputs": [],
      "source": [
        "top_words = [a for a,_ in top_sorted_freq]"
      ]
    },
    {
      "cell_type": "code",
      "execution_count": null,
      "metadata": {
        "id": "actRs_HRlt4T"
      },
      "outputs": [],
      "source": [
        "inds = [word2index[word] for word in top_words]\n",
        "x_coords = [coords[0] for coords in reduced[inds]]\n",
        "y_coords = [coords[1] for coords in reduced[inds]]"
      ]
    },
    {
      "cell_type": "code",
      "execution_count": null,
      "metadata": {
        "id": "nB-Id09-lt4U",
        "outputId": "239bce3c-afe0-4617-a5d2-d7d230aeea79",
        "colab": {
          "base_uri": "https://localhost:8080/",
          "height": 1000
        }
      },
      "outputs": [
        {
          "output_type": "display_data",
          "data": {
            "text/plain": [
              "<Figure size 1500x1500 with 1 Axes>"
            ],
            "image/png": "[encoded data removed]"
          },
          "metadata": {}
        }
      ],
      "source": [
        "for (x, y, word) in zip(x_coords, y_coords, top_words):\n",
        "    plt.scatter(x, y, marker='.', color='blue')\n",
        "    plt.text(x+0.01, y+0.01, word, fontsize=9)\n",
        "plt.show()"
      ]
    },
    {
      "cell_type": "code",
      "execution_count": null,
      "metadata": {
        "id": "xR0U4nMalt4V"
      },
      "outputs": [],
      "source": []
    },
    {
      "cell_type": "markdown",
      "source": [
        "# Оценка\n",
        "1. Вы добрались сюда и все работает, значит уже получили 7 баллов.\n",
        "2. 8 баллов - Взяли корпус для оценка качества эмбеддингов [здесь](https://rusvectores.org/static/testsets/ru_simlex965_tagged.tsv). Описание к нему [здесь](https://arxiv.org/pdf/1801.06407.pdf). Его английская версия для понимания, того что же это такое [тут](https://fh295.github.io/simlex.html). Если в кратце - он похож а гугл аналогии, просто иначе составлен. Определили качество своих эмбеддингов. Как качество измерить? Можете все значения отнормировать (привести к 1) и затем считать MSE между тем что у вас и что в оригинале.\n",
        "3. 9 баллов - Поставили эксперименты, поменяли любые параметры, хоть корпус увеличили или как то почистили. Показали метрики до и после. После должно быть лучше, иначе это все еще 8 баллов.\n",
        "4. 10 баллов - удивили своим подходом (или просто удивили) пока делили на 9 баллов"
      ],
      "metadata": {
        "collapsed": false,
        "id": "Y44I43DQlt4V"
      }
    },
    {
      "cell_type": "markdown",
      "source": [
        "## Оценка качества"
      ],
      "metadata": {
        "id": "40trY2RfF62q"
      }
    },
    {
      "cell_type": "code",
      "execution_count": 61,
      "outputs": [],
      "source": [
        "golden_standard = pd.read_csv('https://rusvectores.org/static/testsets/ru_simlex965_tagged.tsv', sep='\\t')"
      ],
      "metadata": {
        "pycharm": {
          "name": "#%%\n"
        },
        "id": "2-uqbE1Tlt4W"
      }
    },
    {
      "cell_type": "code",
      "source": [
        "golden_standard['Average Score'] = golden_standard['Average Score'] - golden_standard['Average Score'].min()\n",
        "golden_standard['Average Score'] = golden_standard['Average Score'] / golden_standard['Average Score'].max()\n",
        "golden_standard['Average Score'] = (golden_standard['Average Score'] * 2) - 1"
      ],
      "metadata": {
        "id": "ZzsrzSOwselt"
      },
      "execution_count": 62,
      "outputs": []
    },
    {
      "cell_type": "code",
      "source": [
        "stat = []\n",
        "for _, row in golden_standard.iterrows():\n",
        "  if row['# Word1'].split('_')[0] in word2index and row['Word2'].split('_')[0] in word2index:\n",
        "    stat.append((cos_sim(embedding_matrix, word2index, row['# Word1'].split('_')[0], row['Word2'].split('_')[0]) - row['Average Score']) ** 2)\n",
        "print(np.mean(stat))"
      ],
      "metadata": {
        "colab": {
          "base_uri": "https://localhost:8080/"
        },
        "id": "rOLCcEo9tGG_",
        "outputId": "45f22593-1f68-496c-b084-4ae7f288a280"
      },
      "execution_count": null,
      "outputs": [
        {
          "output_type": "stream",
          "name": "stdout",
          "text": [
            "0.5589171299299226\n"
          ]
        }
      ]
    },
    {
      "cell_type": "markdown",
      "source": [
        "## Увеличение количества измерений"
      ],
      "metadata": {
        "id": "NqNbS5OYGNn8"
      }
    },
    {
      "cell_type": "code",
      "source": [
        "EMBEDDING_DIM = 50\n",
        "model = SkipGram(vocab_size=len(word2index), embedding_dim=EMBEDDING_DIM)\n",
        "optimizer = torch.optim.Adam(params=model.parameters(), lr=0.0001)"
      ],
      "metadata": {
        "id": "WJSkDbegyRKw"
      },
      "execution_count": 63,
      "outputs": []
    },
    {
      "cell_type": "code",
      "source": [
        "epochs = 5\n",
        "negative_samples = 5\n",
        "losses = []\n",
        "\n",
        "for n_epoch in range(epochs):\n",
        "\n",
        "\n",
        "  for x, y in tqdm(dataset_loader):\n",
        "\n",
        "      # CODE\n",
        "      logits = model(x.unsqueeze(-1))\n",
        "      pred = logits[np.arange(len(x)), y].view(-1, 1)\n",
        "      val = torch.ones((len(y), 1)).view(-1, 1)\n",
        "      for _ in range(negative_samples):\n",
        "        pred_false = logits[np.arange(len(x)), np.random.randint(low=0, high=len(word2index)-1, size=len(y))]\n",
        "        pred = torch.concat((pred, pred_false.view(-1, 1)), axis=1)\n",
        "        val = torch.concat((val, torch.zeros((len(y), 1))), axis=1)\n",
        "      loss = criterion(pred, val)\n",
        "      loss.backward()\n",
        "      optimizer.step()\n",
        "      optimizer.zero_grad()\n",
        "      # CODE\n",
        "\n",
        "      losses.append(loss.item())"
      ],
      "metadata": {
        "colab": {
          "base_uri": "https://localhost:8080/"
        },
        "id": "WxngfGOn1UY0",
        "outputId": "ff56bfc7-80b1-47bb-9b95-2c12c3a20c82"
      },
      "execution_count": 64,
      "outputs": [
        {
          "output_type": "stream",
          "name": "stderr",
          "text": [
            "100%|██████████| 5827/5827 [15:07<00:00,  6.42it/s]\n",
            "100%|██████████| 5827/5827 [14:52<00:00,  6.53it/s]\n",
            "100%|██████████| 5827/5827 [15:03<00:00,  6.45it/s]\n",
            "100%|██████████| 5827/5827 [15:11<00:00,  6.39it/s]\n",
            "100%|██████████| 5827/5827 [15:18<00:00,  6.34it/s]\n"
          ]
        }
      ]
    },
    {
      "cell_type": "markdown",
      "source": [
        "### Оценка"
      ],
      "metadata": {
        "id": "b9VWk0z3HPlt"
      }
    },
    {
      "cell_type": "code",
      "source": [
        "embedding_matrix = model.in_embedding.weight.detach()"
      ],
      "metadata": {
        "id": "_-n3v6rZFaIj"
      },
      "execution_count": 65,
      "outputs": []
    },
    {
      "cell_type": "code",
      "source": [
        "stat = []\n",
        "for _, row in golden_standard.iterrows():\n",
        "  if row['# Word1'].split('_')[0] in word2index and row['Word2'].split('_')[0] in word2index:\n",
        "    stat.append((cos_sim(embedding_matrix, word2index, row['# Word1'].split('_')[0], row['Word2'].split('_')[0]) - row['Average Score']) ** 2)\n",
        "print(np.mean(stat))"
      ],
      "metadata": {
        "colab": {
          "base_uri": "https://localhost:8080/"
        },
        "id": "Lb88ZHUJ5dzb",
        "outputId": "08c4672d-415a-4a6f-de54-7bc091d0499b"
      },
      "execution_count": 66,
      "outputs": [
        {
          "output_type": "stream",
          "name": "stdout",
          "text": [
            "0.5035547279977043\n"
          ]
        }
      ]
    },
    {
      "cell_type": "markdown",
      "source": [
        "Значение ошибки уменьшилось более, чем на 0.05"
      ],
      "metadata": {
        "id": "A5gjovM_odmq"
      }
    }
  ],
  "metadata": {
    "kernelspec": {
      "display_name": "Python 3",
      "name": "python3"
    },
    "language_info": {
      "codemirror_mode": {
        "name": "ipython",
        "version": 3
      },
      "file_extension": ".py",
      "mimetype": "text/x-python",
      "name": "python",
      "nbconvert_exporter": "python",
      "pygments_lexer": "ipython3",
      "version": "3.6.8"
    },
    "colab": {
      "provenance": [],
      "toc_visible": true
    }
  },
  "nbformat": 4,
  "nbformat_minor": 0
}